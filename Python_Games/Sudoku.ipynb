{
 "cells": [
  {
   "cell_type": "code",
   "execution_count": 4,
   "metadata": {},
   "outputs": [
    {
     "name": "stdout",
     "output_type": "stream",
     "text": [
      "pygame 1.9.6\n",
      "Hello from the pygame community. https://www.pygame.org/contribute.html\n"
     ]
    }
   ],
   "source": [
    "import pygame "
   ]
  },
  {
   "cell_type": "code",
   "execution_count": 5,
   "metadata": {},
   "outputs": [],
   "source": [
    "#pygame font \n",
    "pygame.font.init()\n",
    "\n",
    "#Window Size\n",
    "screen = pygame.display.set_mode((500, 600))\n",
    "\n",
    "# Title of the game and an icon image\n",
    "pygame .display.set_caption(\"Sudoku\")\n",
    "img = pygame.image.load('Python_Games/art.jpg')\n",
    "pygame.display.set_icon(img)"
   ]
  },
  {
   "cell_type": "code",
   "execution_count": 6,
   "metadata": {},
   "outputs": [],
   "source": [
    "x = 0\n",
    "y = 0\n",
    "dif = 500 / 9\n",
    "val = 0\n",
    "\n",
    "# Sudoku Board\n",
    "grid = [\n",
    "        [7, 8, 0, 4, 0, 0, 1, 2, 0], \n",
    "        [6, 0, 0, 0, 7, 5, 0, 0, 9], \n",
    "        [0, 0, 0, 6, 0, 1, 0, 7, 8], \n",
    "        [0, 0, 7, 0, 4, 0, 2, 6, 0], \n",
    "        [0, 0, 1, 0, 5, 0, 9, 3, 0], \n",
    "        [9, 0, 4, 0, 6, 0, 0, 0, 5], \n",
    "        [0, 7, 0, 3, 0, 0, 0, 1, 2], \n",
    "        [1, 2, 0, 0, 0, 7, 4, 0, 0], \n",
    "        [0, 4, 9, 2, 0, 6, 0, 0, 7]\n",
    "]"
   ]
  },
  {
   "cell_type": "code",
   "execution_count": 7,
   "metadata": {},
   "outputs": [],
   "source": [
    "# Tests fonts\n",
    "font1 = pygame.font.SysFont(\"comicsans\", 40)\n",
    "font2 = pygame.font.SysFont(\"cosmcsans\", 20)"
   ]
  },
  {
   "cell_type": "code",
   "execution_count": 8,
   "metadata": {},
   "outputs": [],
   "source": [
    "# Not sure what this does. Maybe x & y are coordinates on grid?\n",
    "def get_cord(pos):\n",
    "    global x \n",
    "    x = pos[0]//dif\n",
    "    global y \n",
    "    y = pos[1]//dif"
   ]
  },
  {
   "cell_type": "code",
   "execution_count": 9,
   "metadata": {},
   "outputs": [],
   "source": [
    "# Highlight the cell selected\n",
    "def draw_box():\n",
    "    for i in range(2):\n",
    "        pygame.draw.line(screen, (255, 20, 20), (x * dif-3, (y + i)*dif), (x * dif + dif +3, (y + i)*dif), 7)\n",
    "        pygame.draw.line(screen, (255, 20, 20), ( (x + i)*dif, y*dif), ((x + i)*dif, y*dif + dif), 7)"
   ]
  },
  {
   "cell_type": "code",
   "execution_count": 1,
   "metadata": {},
   "outputs": [],
   "source": [
    "# Function to draw Sudoku line grids\n",
    "def draw():\n",
    "    for i in range(9):\n",
    "        for j in range(9):\n",
    "            if grid[i][j] != 0:\n",
    "                # Fill blue color in already numbered grid\n",
    "                pygame.draw.rect(screen, (0, 153, 153), (i*dif, j*dif, dif + 1, dif + 1))\n",
    "                \n",
    "                # Fill grid with default numbers specified\n",
    "                text1 = font1.render(str(grid[i][j]), 1, (0, 0, 0))\n",
    "                screen.blit(text1, (i*dif + 15, j*dif +15))\n",
    "    # Horizontal and vertical grid lines\n",
    "    for i in range(10):\n",
    "        if i % 3 == 0:\n",
    "            thick = 7\n",
    "        else:\n",
    "            thick = 1\n",
    "        pygame.draw.line(screen, (0, 0, 0), (0, i*dif), (500, i*dif), thick)\n",
    "        pygame.draw.line(screen, (0, 0, 0), (i*dif, 0), (i*dif, 500), thick)"
   ]
  },
  {
   "cell_type": "code",
   "execution_count": null,
   "metadata": {},
   "outputs": [],
   "source": [
    "# Fill box in with entered value\n",
    "def draw_val(val):\n",
    "    text1 = font1.render(str(val), 1, (0, 0, 0))\n",
    "    screen.blit(text1, (x*dif + 15, y*dif +15))\n",
    "\n",
    "#Raise error when wrong value is entered \n",
    "def raise_error1():\n",
    "    text1 + font1.render(\"Wrong!\", 1, (0, 0, 0))\n",
    "    screen.blit(text1, (20, 570))\n",
    "def raise_error2():\n",
    "    texte1 = font1.render(\"Wrong! Not a valid value\", 1, (0, 0, 0))\n",
    "\n",
    "# Verify if entered value is valid\n"
   ]
  }
 ],
 "metadata": {
  "kernelspec": {
   "display_name": "Python 3",
   "language": "python",
   "name": "python3"
  },
  "language_info": {
   "codemirror_mode": {
    "name": "ipython",
    "version": 3
   },
   "file_extension": ".py",
   "mimetype": "text/x-python",
   "name": "python",
   "nbconvert_exporter": "python",
   "pygments_lexer": "ipython3",
   "version": "3.7.1"
  }
 },
 "nbformat": 4,
 "nbformat_minor": 4
}
